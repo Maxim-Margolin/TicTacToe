{
  "nbformat": 4,
  "nbformat_minor": 0,
  "metadata": {
    "colab": {
      "provenance": []
    },
    "kernelspec": {
      "name": "python3",
      "display_name": "Python 3"
    },
    "language_info": {
      "name": "python"
    }
  },
  "cells": [
    {
      "cell_type": "code",
      "execution_count": null,
      "metadata": {
        "id": "vVT5SmW_r9yK"
      },
      "outputs": [],
      "source": [
        "import random\n",
        "from random import randint\n",
        "import copy"
      ]
    },
    {
      "cell_type": "code",
      "source": [
        "board = {1: ' ', 2: ' ', 3: ' ',\n",
        "         4: ' ', 5: ' ', 6: ' ',\n",
        "         7: ' ', 8: ' ', 9: ' '}\n",
        "         \n",
        "boardStatus = {1: 0, 2: 0, 3: 0,\n",
        "               4: 0, 5: 0, 6: 0,\n",
        "               7: 0, 8: 0, 9: 0}"
      ],
      "metadata": {
        "id": "WEbNfv92D7Qo"
      },
      "execution_count": null,
      "outputs": []
    },
    {
      "cell_type": "code",
      "source": [
        "def printBoard(board):\n",
        "    print(board[1] + \"|\" + board[2] + \"|\" + board[3])\n",
        "    print(\"-----\")\n",
        "    print(board[4] + \"|\" + board[5] + \"|\" + board[6])\n",
        "    print(\"-----\")\n",
        "    print(board[7] + \"|\" + board[8] + \"|\" + board[9])"
      ],
      "metadata": {
        "id": "FyNniyZxD9kG"
      },
      "execution_count": null,
      "outputs": []
    },
    {
      "cell_type": "code",
      "source": [
        "def WhosWin(board):\n",
        "    if board[1] == board[2] and board[2] == board[3] and board[1] != ' ':\n",
        "        if board[1] == 'X': print('Bot won')\n",
        "        else: print('Human won')\n",
        "        return True\n",
        "    elif board[4] == board[5] and board[5] == board[6] and board[4] != ' ':\n",
        "        if board[4] == 'X': print('Bot won')\n",
        "        else: print('Human won')\n",
        "        return True\n",
        "    elif board[7] == board[8] and board[8] == board[9] and board[7] != ' ':\n",
        "        if board[7] == 'X': print('Bot won')\n",
        "        else: print('Human won')\n",
        "        return True\n",
        "    elif board[1] == board[5] and board[5] == board[9] and board[1] != ' ':\n",
        "        if board[1] == 'X': print('Bot won')\n",
        "        else: print('Human won')\n",
        "        return True\n",
        "    elif board[3] == board[5] and board[5] == board[7] and board[3] != ' ':\n",
        "        if board[3] == 'X': print('Bot won')\n",
        "        else: print('Human won')\n",
        "        return True\n",
        "    elif board[1] == board[4] and board[4] == board[7] and board[1] != ' ':\n",
        "        if board[1] == 'X': print('Bot won')\n",
        "        else: print('Human won')\n",
        "        return True\n",
        "    elif board[2] == board[5] and board[5] == board[8] and board[2] != ' ':\n",
        "        if board[2] == 'X': print('Bot won')\n",
        "        else: print('Human won')\n",
        "        return True\n",
        "    elif board[3] == board[6] and board[6] == board[9] and board[3] != ' ':\n",
        "        if board[3] == 'X': print('Bot won')\n",
        "        else: print('Human won')\n",
        "        return True\n",
        "    else: return False\n"
      ],
      "metadata": {
        "id": "tCe3EKWqEHxB"
      },
      "execution_count": null,
      "outputs": []
    },
    {
      "cell_type": "code",
      "source": [
        "def WhosWinIndex(board, boardStatus):\n",
        "  if board[1] == board[2] and board[2] == board[3] and board[1] == 'X':\n",
        "      boardStatus[1] = boardStatus[1] + 0.5\n",
        "      boardStatus[2] = boardStatus[2] + 0.5\n",
        "      boardStatus[3] = boardStatus[3] + 0.5\n",
        "  if board[4] == board[5] and board[5] == board[6] and board[4] == 'X':\n",
        "      boardStatus[4] = boardStatus[4] + 0.5\n",
        "      boardStatus[5] = boardStatus[5] + 0.5\n",
        "      boardStatus[6] = boardStatus[6] + 0.5\n",
        "  if board[7] == board[8] and board[8] == board[9] and board[7] == 'X':\n",
        "      boardStatus[7] = boardStatus[7] + 0.5\n",
        "      boardStatus[8] = boardStatus[8] + 0.5\n",
        "      boardStatus[9] = boardStatus[9] + 0.5\n",
        "  if board[1] == board[5] and board[5] == board[9] and board[1] == 'X':\n",
        "      boardStatus[1] = boardStatus[1] + 0.5\n",
        "      boardStatus[5] = boardStatus[5] + 0.5\n",
        "      boardStatus[9] = boardStatus[9] + 0.5\n",
        "  if board[3] == board[5] and board[5] == board[7] and board[3] == 'X':\n",
        "      boardStatus[3] = boardStatus[3] + 0.5\n",
        "      boardStatus[5] = boardStatus[5] + 0.5\n",
        "      boardStatus[7] = boardStatus[7] + 0.5\n",
        "  if board[1] == board[4] and board[4] == board[7] and board[1] == 'X':\n",
        "      boardStatus[1] = boardStatus[1] + 0.5\n",
        "      boardStatus[4] = boardStatus[4] + 0.5\n",
        "      boardStatus[7] = boardStatus[7] + 0.5\n",
        "  if board[2] == board[5] and board[5] == board[8] and board[2] == 'X':\n",
        "      boardStatus[2] = boardStatus[2] + 0.5\n",
        "      boardStatus[5] = boardStatus[5] + 0.5\n",
        "      boardStatus[8] = boardStatus[8] + 0.5\n",
        "  if board[3] == board[6] and board[6] == board[9] and board[3] == 'X':\n",
        "      boardStatus[3] = boardStatus[3] + 0.5\n",
        "      boardStatus[6] = boardStatus[6] + 0.5\n",
        "      boardStatus[9] = boardStatus[9] + 0.5\n",
        "  return boardStatus\n"
      ],
      "metadata": {
        "id": "JWM2p_-AhNyA"
      },
      "execution_count": null,
      "outputs": []
    },
    {
      "cell_type": "code",
      "source": [
        "def InsertTheTable(symbol, board, position):\n",
        "    ChangeBoard(position, board, symbol)\n",
        "    printBoard(board)"
      ],
      "metadata": {
        "id": "pyUnQIkoECAv"
      },
      "execution_count": null,
      "outputs": []
    },
    {
      "cell_type": "code",
      "source": [
        "def ChangeBoard(position, board, symbol):\n",
        "    if board[position] != ' ':\n",
        "        print('The position occupied, change position')\n",
        "        position = int(input('Enter the position: '))\n",
        "        ChangeBoard(position, board, symbol)\n",
        "    else:\n",
        "        board[position] = symbol"
      ],
      "metadata": {
        "id": "JNnX2ap3ELN_"
      },
      "execution_count": null,
      "outputs": []
    },
    {
      "cell_type": "code",
      "source": [
        "def IsBoardEmpty(boardTemp):\n",
        "  for key in boardTemp.keys():\n",
        "    if boardTemp[key] == ' ':\n",
        "      return False\n",
        "  return True"
      ],
      "metadata": {
        "id": "o9lQ_h5Ir9rP"
      },
      "execution_count": null,
      "outputs": []
    },
    {
      "cell_type": "code",
      "source": [
        "def InsertBoard(index, board):\n",
        "  boardTemp = copy.copy(board)\n",
        "  for i in range(5):\n",
        "    if IsBoardEmpty(boardTemp) == False and index != 10:\n",
        "        while board[index] != ' ':\n",
        "            if index + 1 > 9:\n",
        "                index = 1\n",
        "            else:\n",
        "                index += 1\n",
        "        boardTemp[index] = 'X'\n",
        "        index = index + 1\n",
        "    if index == 10 and IsBoardEmpty(boardTemp) == False:\n",
        "        index = 1\n",
        "    if IsBoardEmpty(boardTemp) == False and index != 10:\n",
        "        while board[index] != ' ':\n",
        "            if index + 1 > 9:\n",
        "                index = 1\n",
        "            else:\n",
        "                index += 1\n",
        "        boardTemp[index] = 'O'\n",
        "        index = index + 1\n",
        "    if index == 10 and IsBoardEmpty(boardTemp) == False:\n",
        "        index = 1\n",
        "  return boardTemp"
      ],
      "metadata": {
        "id": "Gwz0nY6XrEh1"
      },
      "execution_count": null,
      "outputs": []
    },
    {
      "cell_type": "code",
      "source": [
        "def changeBoardStatus(boardStatus):\n",
        "  boardStatusTemp = copy.copy(boardStatus)\n",
        "  boardTemp = copy.copy(board)\n",
        "  for keys in boardTemp.keys():\n",
        "    if board[keys] == ' ':\n",
        "      boardStatus = copy.copy(WhosWinIndex(InsertBoard(keys, boardTemp), boardStatus))\n",
        "\n",
        "  for i in board.keys():\n",
        "    if board[i] != ' ':\n",
        "        boardStatus[i] = 0\n",
        "\n",
        "  maxValue = 0\n",
        "  bestPosition = 0\n",
        "\n",
        "  for keys in boardStatus.keys():\n",
        "    if boardStatus[keys] > maxValue:\n",
        "      maxValue = boardStatus[keys]\n",
        "      bestPosition = keys\n",
        "\n",
        "  tempBoard1 = copy.copy(board)\n",
        "  for keys in boardStatus.keys():\n",
        "    if tempBoard1[keys] == maxValue:\n",
        "        tempBoard1[keys] = 'X'\n",
        "        if WhosWin(boardStatus) == True:\n",
        "            bestPosition = keys\n",
        "        else:\n",
        "            tempBoard1[keys] = ' '\n",
        "  return bestPosition"
      ],
      "metadata": {
        "id": "xcElM-_lQtCs"
      },
      "execution_count": null,
      "outputs": []
    },
    {
      "cell_type": "code",
      "source": [
        "def botMove(board):\n",
        "    for keys in boardStatus.keys():\n",
        "        boardStatus[keys] = 0\n",
        "    bestPosition = changeBoardStatus(boardStatus)\n",
        "    InsertTheTable(\"X\", board, bestPosition)\n",
        "    print(\"________\")\n",
        "\n",
        "def HumanMove(board):\n",
        "    position = int(input('Enter the position: '))\n",
        "    InsertTheTable(\"O\", board, position)\n",
        "    print(\"________\")"
      ],
      "metadata": {
        "id": "26EJKc6S96wp"
      },
      "execution_count": null,
      "outputs": []
    },
    {
      "cell_type": "code",
      "source": [
        "while WhosWin(board) == False:\n",
        "    botMove(board)\n",
        "    if WhosWin(board) == True:\n",
        "        break\n",
        "    HumanMove(board)\n",
        "    if WhosWin(board) == True:\n",
        "        break"
      ],
      "metadata": {
        "colab": {
          "base_uri": "https://localhost:8080/"
        },
        "id": "Io3IJQ-D-y2-",
        "outputId": "3e1eac03-2fe3-4912-d100-3f3db1bef3de"
      },
      "execution_count": null,
      "outputs": [
        {
          "output_type": "stream",
          "name": "stdout",
          "text": [
            " | | \n",
            "-----\n",
            " |X| \n",
            "-----\n",
            " | | \n",
            "________\n",
            "Enter the position: 2\n",
            " |O| \n",
            "-----\n",
            " |X| \n",
            "-----\n",
            " | | \n",
            "________\n",
            " |O|X\n",
            "-----\n",
            " |X| \n",
            "-----\n",
            " | | \n",
            "________\n",
            "Enter the position: 7\n",
            " |O|X\n",
            "-----\n",
            " |X| \n",
            "-----\n",
            "O| | \n",
            "________\n",
            " |O|X\n",
            "-----\n",
            " |X|X\n",
            "-----\n",
            "O| | \n",
            "________\n",
            "Enter the position: 9\n",
            " |O|X\n",
            "-----\n",
            " |X|X\n",
            "-----\n",
            "O| |O\n",
            "________\n",
            " |O|X\n",
            "-----\n",
            "X|X|X\n",
            "-----\n",
            "O| |O\n",
            "________\n",
            "Bot won\n"
          ]
        }
      ]
    }
  ]
}